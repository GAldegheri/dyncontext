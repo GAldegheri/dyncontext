{
 "cells": [
  {
   "cell_type": "code",
   "execution_count": 3,
   "id": "633f234e",
   "metadata": {},
   "outputs": [],
   "source": [
    "import pandas as pd\n",
    "import pingouin as pg\n",
    "from pathlib import Path\n",
    "import sys\n",
    "sys.path.append('..')\n",
    "from config.paths import DATA_DIR\n",
    "from plotting.plot import plot_by_nvoxels"
   ]
  },
  {
   "cell_type": "code",
   "execution_count": 4,
   "id": "2d00d169",
   "metadata": {},
   "outputs": [],
   "source": [
    "data_dir = Path(DATA_DIR) / 'experiment_2'"
   ]
  },
  {
   "cell_type": "markdown",
   "id": "713c31ef",
   "metadata": {},
   "source": [
    "## MVPA Results"
   ]
  },
  {
   "cell_type": "code",
   "execution_count": 12,
   "id": "6a40af28",
   "metadata": {},
   "outputs": [],
   "source": [
    "all_mvpa_files = data_dir.glob('mvpa_results/exp2_*.csv')\n",
    "mvpa_df = []\n",
    "for f in all_mvpa_files:\n",
    "    mvpa_df.append(pd.read_csv(f))\n",
    "mvpa_df = pd.concat(mvpa_df)\n",
    "\n",
    "# Exclude subjects\n",
    "exclude_subjects = [f'sub-{s:03d}' for s in [9, 22, 19, 26]]\n",
    "mvpa_df = mvpa_df[~mvpa_df.subject_id.isin(exclude_subjects)]"
   ]
  },
  {
   "cell_type": "code",
   "execution_count": 13,
   "id": "ad888b5c",
   "metadata": {},
   "outputs": [
    {
     "data": {
      "text/plain": [
       "30"
      ]
     },
     "execution_count": 13,
     "metadata": {},
     "output_type": "execute_result"
    }
   ],
   "source": [
    "mvpa_df.subject_id.nunique()"
   ]
  },
  {
   "cell_type": "code",
   "execution_count": 14,
   "id": "b1a3ab09",
   "metadata": {},
   "outputs": [],
   "source": [
    "mvpa_avg = mvpa_df.groupby(['roi', 'subject_id', 'n_voxels', 'hemisphere']).mean(numeric_only=True).reset_index()\n",
    "\n",
    "evc_results = mvpa_avg[mvpa_avg['roi']=='ba-17-18']\n",
    "lvc_results = mvpa_avg[mvpa_avg['roi']=='ba-19-37']"
   ]
  },
  {
   "cell_type": "code",
   "execution_count": 15,
   "id": "cd59dfb4",
   "metadata": {},
   "outputs": [
    {
     "data": {
      "text/html": [
       "<div>\n",
       "<style scoped>\n",
       "    .dataframe tbody tr th:only-of-type {\n",
       "        vertical-align: middle;\n",
       "    }\n",
       "\n",
       "    .dataframe tbody tr th {\n",
       "        vertical-align: top;\n",
       "    }\n",
       "\n",
       "    .dataframe thead th {\n",
       "        text-align: right;\n",
       "    }\n",
       "</style>\n",
       "<table border=\"1\" class=\"dataframe\">\n",
       "  <thead>\n",
       "    <tr style=\"text-align: right;\">\n",
       "      <th></th>\n",
       "      <th>T</th>\n",
       "      <th>dof</th>\n",
       "      <th>alternative</th>\n",
       "      <th>p-val</th>\n",
       "      <th>CI95%</th>\n",
       "      <th>cohen-d</th>\n",
       "      <th>BF10</th>\n",
       "      <th>power</th>\n",
       "    </tr>\n",
       "  </thead>\n",
       "  <tbody>\n",
       "    <tr>\n",
       "      <th>T-test</th>\n",
       "      <td>1.258192</td>\n",
       "      <td>29</td>\n",
       "      <td>two-sided</td>\n",
       "      <td>0.218359</td>\n",
       "      <td>[-0.03, 0.13]</td>\n",
       "      <td>0.229713</td>\n",
       "      <td>0.398</td>\n",
       "      <td>0.229422</td>\n",
       "    </tr>\n",
       "  </tbody>\n",
       "</table>\n",
       "</div>"
      ],
      "text/plain": [
       "               T  dof alternative     p-val          CI95%   cohen-d   BF10  \\\n",
       "T-test  1.258192   29   two-sided  0.218359  [-0.03, 0.13]  0.229713  0.398   \n",
       "\n",
       "           power  \n",
       "T-test  0.229422  "
      ]
     },
     "execution_count": 15,
     "metadata": {},
     "output_type": "execute_result"
    }
   ],
   "source": [
    "# check that decoding is overall above chance in EVC\n",
    "pg.ttest(evc_results.groupby(['subject_id']).mean(numeric_only=True)['classifier_info'], 0.0)"
   ]
  },
  {
   "cell_type": "code",
   "execution_count": 16,
   "id": "784e8f1e",
   "metadata": {},
   "outputs": [
    {
     "data": {
      "text/html": [
       "<div>\n",
       "<style scoped>\n",
       "    .dataframe tbody tr th:only-of-type {\n",
       "        vertical-align: middle;\n",
       "    }\n",
       "\n",
       "    .dataframe tbody tr th {\n",
       "        vertical-align: top;\n",
       "    }\n",
       "\n",
       "    .dataframe thead th {\n",
       "        text-align: right;\n",
       "    }\n",
       "</style>\n",
       "<table border=\"1\" class=\"dataframe\">\n",
       "  <thead>\n",
       "    <tr style=\"text-align: right;\">\n",
       "      <th></th>\n",
       "      <th>T</th>\n",
       "      <th>dof</th>\n",
       "      <th>alternative</th>\n",
       "      <th>p-val</th>\n",
       "      <th>CI95%</th>\n",
       "      <th>cohen-d</th>\n",
       "      <th>BF10</th>\n",
       "      <th>power</th>\n",
       "    </tr>\n",
       "  </thead>\n",
       "  <tbody>\n",
       "    <tr>\n",
       "      <th>T-test</th>\n",
       "      <td>2.698334</td>\n",
       "      <td>29</td>\n",
       "      <td>two-sided</td>\n",
       "      <td>0.011496</td>\n",
       "      <td>[0.01, 0.09]</td>\n",
       "      <td>0.492646</td>\n",
       "      <td>4.003</td>\n",
       "      <td>0.741549</td>\n",
       "    </tr>\n",
       "  </tbody>\n",
       "</table>\n",
       "</div>"
      ],
      "text/plain": [
       "               T  dof alternative     p-val         CI95%   cohen-d   BF10  \\\n",
       "T-test  2.698334   29   two-sided  0.011496  [0.01, 0.09]  0.492646  4.003   \n",
       "\n",
       "           power  \n",
       "T-test  0.741549  "
      ]
     },
     "execution_count": 16,
     "metadata": {},
     "output_type": "execute_result"
    }
   ],
   "source": [
    "# and in LVC\n",
    "pg.ttest(lvc_results.groupby(['subject_id']).mean(numeric_only=True)['classifier_info'], 0.0)"
   ]
  },
  {
   "cell_type": "code",
   "execution_count": null,
   "id": "0487da30",
   "metadata": {},
   "outputs": [],
   "source": []
  }
 ],
 "metadata": {
  "kernelspec": {
   "display_name": "dyncontext",
   "language": "python",
   "name": "python3"
  },
  "language_info": {
   "codemirror_mode": {
    "name": "ipython",
    "version": 3
   },
   "file_extension": ".py",
   "mimetype": "text/x-python",
   "name": "python",
   "nbconvert_exporter": "python",
   "pygments_lexer": "ipython3",
   "version": "3.10.18"
  }
 },
 "nbformat": 4,
 "nbformat_minor": 5
}
