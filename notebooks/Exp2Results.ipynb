{
 "cells": [
  {
   "cell_type": "code",
   "execution_count": null,
   "id": "633f234e",
   "metadata": {},
   "outputs": [],
   "source": [
    "import pandas as pd\n",
    "import pingouin as pg\n",
    "from pathlib import Path\n",
    "import sys\n",
    "sys.path.append('..')\n",
    "from config.paths import DATA_DIR\n",
    "from plotting.plot import plot_by_nvoxels, draw_counts_correlations\n",
    "\n",
    "%load_ext autoreload\n",
    "%autoreload 2"
   ]
  },
  {
   "cell_type": "code",
   "execution_count": null,
   "id": "2d00d169",
   "metadata": {},
   "outputs": [],
   "source": [
    "data_dir = Path(DATA_DIR) / 'experiment_2'"
   ]
  },
  {
   "cell_type": "markdown",
   "id": "713c31ef",
   "metadata": {},
   "source": [
    "## MVPA Results"
   ]
  },
  {
   "cell_type": "code",
   "execution_count": null,
   "id": "6a40af28",
   "metadata": {},
   "outputs": [],
   "source": [
    "all_mvpa_files = data_dir.glob('mvpa_results/exp2_*.csv')\n",
    "mvpa_df = []\n",
    "for f in all_mvpa_files:\n",
    "    mvpa_df.append(pd.read_csv(f))\n",
    "mvpa_df = pd.concat(mvpa_df)\n",
    "\n",
    "# Exclude subjects\n",
    "exclude_subjects = [f'sub-{s:03d}' for s in [9, 22, 19, 26]]\n",
    "mvpa_df = mvpa_df[~mvpa_df.subject_id.isin(exclude_subjects)]"
   ]
  },
  {
   "cell_type": "code",
   "execution_count": null,
   "id": "ad888b5c",
   "metadata": {},
   "outputs": [],
   "source": [
    "mvpa_df.subject_id.nunique()"
   ]
  },
  {
   "cell_type": "code",
   "execution_count": null,
   "id": "b1a3ab09",
   "metadata": {},
   "outputs": [],
   "source": [
    "mvpa_avg = mvpa_df.groupby(['roi', 'subject_id', 'n_voxels', 'hemisphere']).mean(numeric_only=True).reset_index()\n",
    "\n",
    "evc_results = mvpa_avg[mvpa_avg['roi']=='ba-17-18']\n",
    "lvc_results = mvpa_avg[mvpa_avg['roi']=='ba-19-37']"
   ]
  },
  {
   "cell_type": "code",
   "execution_count": null,
   "id": "cd59dfb4",
   "metadata": {},
   "outputs": [],
   "source": [
    "# check that decoding is overall above chance in EVC\n",
    "pg.ttest(evc_results.groupby(['subject_id']).mean(numeric_only=True)['classifier_info'], 0.0)"
   ]
  },
  {
   "cell_type": "code",
   "execution_count": null,
   "id": "784e8f1e",
   "metadata": {},
   "outputs": [],
   "source": [
    "# and in LVC\n",
    "pg.ttest(lvc_results.groupby(['subject_id']).mean(numeric_only=True)['classifier_info'], 0.0)"
   ]
  },
  {
   "cell_type": "code",
   "execution_count": null,
   "id": "a8c20adb",
   "metadata": {},
   "outputs": [],
   "source": [
    "_ = plot_by_nvoxels(evc_results, n_perms=10000, violin_plot=True, experiment=2)"
   ]
  },
  {
   "cell_type": "code",
   "execution_count": null,
   "id": "12fa888e",
   "metadata": {},
   "outputs": [],
   "source": [
    "_ = plot_by_nvoxels(lvc_results, n_perms=10000, violin_plot=True, experiment=2)"
   ]
  },
  {
   "cell_type": "markdown",
   "id": "42a48325",
   "metadata": {},
   "source": [
    "## Behavioral Results\n",
    "\n",
    "Used for subject exclusion"
   ]
  },
  {
   "cell_type": "code",
   "execution_count": null,
   "id": "0487da30",
   "metadata": {},
   "outputs": [],
   "source": [
    "countsdata = pd.read_csv(data_dir / 'countsdata.csv')"
   ]
  },
  {
   "cell_type": "code",
   "execution_count": null,
   "id": "0eaeef66",
   "metadata": {},
   "outputs": [],
   "source": [
    "draw_counts_correlations(countsdata)"
   ]
  },
  {
   "cell_type": "code",
   "execution_count": null,
   "id": "697995da",
   "metadata": {},
   "outputs": [],
   "source": []
  }
 ],
 "metadata": {
  "kernelspec": {
   "display_name": "dyncontext",
   "language": "python",
   "name": "python3"
  },
  "language_info": {
   "codemirror_mode": {
    "name": "ipython",
    "version": 3
   },
   "file_extension": ".py",
   "mimetype": "text/x-python",
   "name": "python",
   "nbconvert_exporter": "python",
   "pygments_lexer": "ipython3",
   "version": "3.10.18"
  }
 },
 "nbformat": 4,
 "nbformat_minor": 5
}
