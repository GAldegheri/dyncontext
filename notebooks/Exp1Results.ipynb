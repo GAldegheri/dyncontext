{
 "cells": [
  {
   "cell_type": "code",
   "execution_count": null,
   "id": "2f4e0f47",
   "metadata": {},
   "outputs": [],
   "source": [
    "import pandas as pd\n",
    "import pingouin as pg\n",
    "from nilearn.glm.second_level import SecondLevelModel\n",
    "from nilearn.glm import threshold_stats_img\n",
    "from nilearn.reporting import get_clusters_table\n",
    "from nilearn.plotting import plot_glass_brain\n",
    "from nilearn.image import new_img_like\n",
    "import nibabel as nib\n",
    "from glob import glob\n",
    "import numpy as np\n",
    "from pathlib import Path\n",
    "import sys\n",
    "sys.path.append('..')\n",
    "from config.paths import DATA_DIR\n",
    "from plotting.plot import pretty_behav_plot, plot_by_nvoxels\n",
    "\n",
    "%load_ext autoreload\n",
    "%autoreload 2"
   ]
  },
  {
   "cell_type": "code",
   "execution_count": null,
   "id": "b691dc2b",
   "metadata": {},
   "outputs": [],
   "source": [
    "data_dir = Path(DATA_DIR) / 'experiment_1'"
   ]
  },
  {
   "cell_type": "markdown",
   "id": "aa6c5a09",
   "metadata": {},
   "source": [
    "## Behavioral data"
   ]
  },
  {
   "cell_type": "code",
   "execution_count": null,
   "id": "94b4d6b8",
   "metadata": {},
   "outputs": [],
   "source": [
    "behav_df = []\n",
    "\n",
    "all_subjdirs = data_dir.glob('sub-*')\n",
    "for i, s in enumerate(all_subjdirs):\n",
    "     this_subj = pd.read_csv(list(s.glob('func/*_beh.tsv'))[0], sep='\\t')\n",
    "     this_subj['Subject'] = f'sub-{i+1:03d}'\n",
    "     behav_df.append(this_subj)\n",
    "behav_df = pd.concat(behav_df)\n",
    "avg_behav = behav_df.groupby(['Subject', 'Consistent']).mean().reset_index()"
   ]
  },
  {
   "cell_type": "code",
   "execution_count": null,
   "id": "abbc5af2",
   "metadata": {},
   "outputs": [],
   "source": [
    "pg.ttest(avg_behav[avg_behav['Consistent']==1]['Hit'], \n",
    "         avg_behav[avg_behav['Consistent']==0]['Hit'], paired=True)"
   ]
  },
  {
   "cell_type": "code",
   "execution_count": null,
   "id": "afed6f32",
   "metadata": {},
   "outputs": [],
   "source": [
    "pretty_behav_plot(avgdata=avg_behav)"
   ]
  },
  {
   "cell_type": "markdown",
   "id": "c70d9c88",
   "metadata": {},
   "source": [
    "## MVPA"
   ]
  },
  {
   "cell_type": "code",
   "execution_count": null,
   "id": "00e4842f",
   "metadata": {},
   "outputs": [],
   "source": [
    "all_mvpa_files = data_dir.glob('mvpa_results/exp1_*.csv')\n",
    "mvpa_df = []\n",
    "for f in all_mvpa_files:\n",
    "    mvpa_df.append(pd.read_csv(f))\n",
    "mvpa_df = pd.concat(mvpa_df)"
   ]
  },
  {
   "cell_type": "code",
   "execution_count": null,
   "id": "2704b711",
   "metadata": {},
   "outputs": [],
   "source": [
    "mvpa_avg = mvpa_df.groupby(['roi', 'subject_id', 'n_voxels', 'hemisphere', 'congruency']).mean(numeric_only=True).reset_index()\n",
    "\n",
    "evc_results = mvpa_avg[mvpa_avg['roi']=='ba-17-18']\n",
    "lvc_results = mvpa_avg[mvpa_avg['roi']=='ba-19-37']"
   ]
  },
  {
   "cell_type": "code",
   "execution_count": null,
   "id": "fea1f090",
   "metadata": {},
   "outputs": [],
   "source": [
    "# check that decoding is overall above chance in EVC\n",
    "pg.ttest(evc_results.groupby(['subject_id']).mean(numeric_only=True)['classifier_info'], 0.0)"
   ]
  },
  {
   "cell_type": "code",
   "execution_count": null,
   "id": "eabfddf3",
   "metadata": {},
   "outputs": [],
   "source": [
    "# and in LVC\n",
    "pg.ttest(lvc_results.groupby(['subject_id']).mean(numeric_only=True)['classifier_info'], 0.0)"
   ]
  },
  {
   "cell_type": "code",
   "execution_count": null,
   "id": "226d98db",
   "metadata": {},
   "outputs": [],
   "source": [
    "pg.ttest(evc_results.groupby('subject_id').mean(numeric_only=True)['classifier_info'],\n",
    "         lvc_results.groupby('subject_id').mean(numeric_only=True)['classifier_info'],\n",
    "         paired=True)"
   ]
  },
  {
   "cell_type": "markdown",
   "id": "5524547d",
   "metadata": {},
   "source": [
    "Main comparison: congruent vs. incongruent averaged across voxel sizes"
   ]
  },
  {
   "cell_type": "code",
   "execution_count": null,
   "id": "bdd9b64b",
   "metadata": {},
   "outputs": [],
   "source": [
    "pg.ttest(evc_results[evc_results['congruency']=='congruent'].groupby('subject_id').mean(numeric_only=True)['classifier_info'],\n",
    "         evc_results[evc_results['congruency']=='incongruent'].groupby('subject_id').mean(numeric_only=True)['classifier_info'],\n",
    "         paired=True)"
   ]
  },
  {
   "cell_type": "code",
   "execution_count": null,
   "id": "b8054d9a",
   "metadata": {},
   "outputs": [],
   "source": [
    "mvpa_avg"
   ]
  },
  {
   "cell_type": "markdown",
   "id": "5c7747a1",
   "metadata": {},
   "source": [
    "ANOVA to check for interactions between ROI and congruency"
   ]
  },
  {
   "cell_type": "code",
   "execution_count": null,
   "id": "7c6efb56",
   "metadata": {},
   "outputs": [],
   "source": [
    "mvpa_avg.groupby(['subject_id', 'roi', 'congruency']).mean(numeric_only=True).reset_index()"
   ]
  },
  {
   "cell_type": "code",
   "execution_count": null,
   "id": "6b038308",
   "metadata": {},
   "outputs": [],
   "source": [
    "aov = pg.rm_anova(data=mvpa_avg.groupby(['subject_id', 'roi', 'congruency']).mean(numeric_only=True).reset_index(), \n",
    "                  dv='classifier_info', within=['roi', 'congruency'], subject='subject_id')\n",
    "aov.round(4)"
   ]
  },
  {
   "cell_type": "markdown",
   "id": "a2083343",
   "metadata": {},
   "source": [
    "### Early Visual Cortex"
   ]
  },
  {
   "cell_type": "code",
   "execution_count": null,
   "id": "01b15153",
   "metadata": {},
   "outputs": [],
   "source": [
    "_ = plot_by_nvoxels(evc_results, n_perms=10000, right_part=True)"
   ]
  },
  {
   "cell_type": "markdown",
   "id": "e9c7cef9",
   "metadata": {},
   "source": [
    "### Late Visual Cortex"
   ]
  },
  {
   "cell_type": "code",
   "execution_count": null,
   "id": "bfafa4ce",
   "metadata": {},
   "outputs": [],
   "source": [
    "_ = plot_by_nvoxels(lvc_results, n_perms=10000, right_part=True)"
   ]
  },
  {
   "cell_type": "markdown",
   "id": "e8fe236c",
   "metadata": {},
   "source": [
    "## Univariate"
   ]
  },
  {
   "cell_type": "code",
   "execution_count": null,
   "id": "af07e933",
   "metadata": {},
   "outputs": [],
   "source": [
    "# Get paths to contrast files\n",
    "\n",
    "all_contr_files = []\n",
    "\n",
    "contr_dir = data_dir / 'derivatives' / 'spm-preproc' / 'derivatives' / 'spm-stats' / 'contrasts'\n",
    "for s in sorted(contr_dir.glob('sub-*')):\n",
    "    thiscontr_path = s / 'test' / 'exp1_cong_incong'\n",
    "    all_contr_files.append(list(thiscontr_path.glob('con*.nii'))[0])"
   ]
  },
  {
   "cell_type": "code",
   "execution_count": null,
   "id": "0ecc3681",
   "metadata": {},
   "outputs": [],
   "source": [
    "design_matrix = pd.DataFrame([1] * len(all_contr_files), columns=['intercept'])\n",
    "second_level_model = SecondLevelModel().fit(\n",
    "    all_contr_files, design_matrix=design_matrix\n",
    ")"
   ]
  },
  {
   "cell_type": "code",
   "execution_count": null,
   "id": "9489a6b6",
   "metadata": {},
   "outputs": [],
   "source": [
    "z_map = second_level_model.compute_contrast(second_level_stat_type='t', output_type=\"z_score\")"
   ]
  },
  {
   "cell_type": "code",
   "execution_count": null,
   "id": "6c546244",
   "metadata": {},
   "outputs": [],
   "source": [
    "thresholded_map, threshold = threshold_stats_img(\n",
    "    z_map,\n",
    "    alpha=0.001,\n",
    "    height_control=\"fpr\",\n",
    "    cluster_threshold=10,\n",
    "    two_sided=True,\n",
    ")\n",
    "thresholded_map = new_img_like(thresholded_map, np.nan_to_num(thresholded_map.get_fdata()))"
   ]
  },
  {
   "cell_type": "code",
   "execution_count": null,
   "id": "bcc4ed93",
   "metadata": {},
   "outputs": [],
   "source": [
    "get_clusters_table(z_map, threshold, cluster_threshold=10,\n",
    "                   two_sided=True)"
   ]
  },
  {
   "cell_type": "code",
   "execution_count": null,
   "id": "96244dd7",
   "metadata": {},
   "outputs": [],
   "source": [
    "disp = plot_glass_brain(z_map, threshold=threshold, draw_cross=False, colorbar=True)"
   ]
  },
  {
   "cell_type": "markdown",
   "id": "2d4eb1eb",
   "metadata": {},
   "source": [
    "## Information-activation coupling"
   ]
  },
  {
   "cell_type": "code",
   "execution_count": null,
   "id": "a504daf3",
   "metadata": {},
   "outputs": [],
   "source": [
    "all_cong_maps = []\n",
    "all_incong_maps = []\n",
    "\n",
    "infocoupl_dir = data_dir / 'infocoupl_maps'\n",
    "\n",
    "for m in sorted(infocoupl_dir.glob('*.nii.gz')):\n",
    "    thismapfile = str(m)\n",
    "    if 'incongruent' not in m.name and 'congruent' in m.name:\n",
    "        all_cong_maps.append(thismapfile)\n",
    "    elif 'incongruent' in m.name:\n",
    "        all_incong_maps.append(thismapfile)"
   ]
  },
  {
   "cell_type": "code",
   "execution_count": null,
   "id": "56f3caf2",
   "metadata": {},
   "outputs": [],
   "source": [
    "n_subjects = len(all_cong_maps)\n",
    "subject_list = [f'sub-{i:03d}' for i in range(1, n_subjects + 1)]\n",
    "condition_effect = np.hstack(([1] * n_subjects, [-1] * n_subjects))\n",
    "subject_effect = np.vstack((np.eye(n_subjects), np.eye(n_subjects)))\n",
    "paired_design_matrix = pd.DataFrame(\n",
    "    np.hstack((condition_effect[:, np.newaxis], subject_effect)),\n",
    "    columns=[\"congruent vs incongruent\"] + subject_list,\n",
    ")"
   ]
  },
  {
   "cell_type": "code",
   "execution_count": null,
   "id": "7c50f538",
   "metadata": {},
   "outputs": [],
   "source": [
    "second_level_model_paired = SecondLevelModel().fit(\n",
    "    all_cong_maps + all_incong_maps, design_matrix=paired_design_matrix\n",
    ")"
   ]
  },
  {
   "cell_type": "code",
   "execution_count": null,
   "id": "621e3edf",
   "metadata": {},
   "outputs": [],
   "source": [
    "stat_maps_paired = second_level_model_paired.compute_contrast(\n",
    "    \"congruent vs incongruent\", output_type=\"all\"\n",
    ")"
   ]
  },
  {
   "cell_type": "code",
   "execution_count": null,
   "id": "d395243f",
   "metadata": {},
   "outputs": [],
   "source": [
    "thresholded_map, threshold = threshold_stats_img(\n",
    "    stat_maps_paired[\"z_score\"],\n",
    "    alpha=0.001,\n",
    "    height_control=\"fpr\",\n",
    "    cluster_threshold=10,\n",
    "    two_sided=False,\n",
    ")"
   ]
  },
  {
   "cell_type": "code",
   "execution_count": null,
   "id": "37def226",
   "metadata": {},
   "outputs": [],
   "source": [
    "disp=plot_glass_brain(\n",
    "    thresholded_map,\n",
    "    threshold=threshold,\n",
    "    colorbar=True,\n",
    "    plot_abs=False\n",
    ")"
   ]
  },
  {
   "cell_type": "code",
   "execution_count": null,
   "id": "8c9fe753",
   "metadata": {},
   "outputs": [],
   "source": [
    "get_clusters_table(stat_maps_paired['z_score'], threshold,\n",
    "                   cluster_threshold=10, two_sided=False)"
   ]
  },
  {
   "cell_type": "code",
   "execution_count": null,
   "id": "a5d5c7da",
   "metadata": {},
   "outputs": [],
   "source": []
  }
 ],
 "metadata": {
  "kernelspec": {
   "display_name": "dyncontext",
   "language": "python",
   "name": "python3"
  },
  "language_info": {
   "codemirror_mode": {
    "name": "ipython",
    "version": 3
   },
   "file_extension": ".py",
   "mimetype": "text/x-python",
   "name": "python",
   "nbconvert_exporter": "python",
   "pygments_lexer": "ipython3",
   "version": "3.10.18"
  }
 },
 "nbformat": 4,
 "nbformat_minor": 5
}
