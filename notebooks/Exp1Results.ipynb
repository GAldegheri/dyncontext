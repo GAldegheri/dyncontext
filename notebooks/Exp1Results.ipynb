{
 "cells": [
  {
   "cell_type": "code",
   "execution_count": null,
   "id": "2f4e0f47",
   "metadata": {},
   "outputs": [],
   "source": [
    "import pandas as pd\n",
    "import pingouin as pg\n",
    "from glob import glob"
   ]
  },
  {
   "cell_type": "markdown",
   "id": "aa6c5a09",
   "metadata": {},
   "source": [
    "## Behavioral data"
   ]
  },
  {
   "cell_type": "markdown",
   "id": "edcfbb34",
   "metadata": {},
   "source": []
  },
  {
   "cell_type": "markdown",
   "id": "c70d9c88",
   "metadata": {},
   "source": [
    "## MVPA"
   ]
  },
  {
   "cell_type": "code",
   "execution_count": null,
   "id": "00e4842f",
   "metadata": {},
   "outputs": [],
   "source": []
  },
  {
   "cell_type": "markdown",
   "id": "e8fe236c",
   "metadata": {},
   "source": [
    "## Univariate"
   ]
  },
  {
   "cell_type": "code",
   "execution_count": null,
   "id": "af07e933",
   "metadata": {},
   "outputs": [],
   "source": []
  },
  {
   "cell_type": "markdown",
   "id": "2d4eb1eb",
   "metadata": {},
   "source": [
    "## Information-activation coupling"
   ]
  },
  {
   "cell_type": "code",
   "execution_count": null,
   "id": "a504daf3",
   "metadata": {},
   "outputs": [],
   "source": []
  }
 ],
 "metadata": {
  "language_info": {
   "name": "python"
  }
 },
 "nbformat": 4,
 "nbformat_minor": 5
}
