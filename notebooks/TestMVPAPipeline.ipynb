{
 "cells": [
  {
   "cell_type": "code",
   "execution_count": 1,
   "id": "2091373c",
   "metadata": {},
   "outputs": [],
   "source": [
    "import sys\n",
    "sys.path.append('..')\n",
    "from analysis.mvpa.loaders import ExperimentDataLoader, LocalizerLoader\n",
    "from analysis.mvpa.decoders import Experiment1Decoder\n",
    "from analysis.mvpa.utils import remove_nan_voxels\n",
    "from scipy.io import loadmat\n",
    "import re\n",
    "import numpy as np\n",
    "\n",
    "%load_ext autoreload\n",
    "%autoreload 2"
   ]
  },
  {
   "cell_type": "code",
   "execution_count": 6,
   "id": "f92e8d65",
   "metadata": {},
   "outputs": [],
   "source": [
    "loader = ExperimentDataLoader(data_dir='/project/3018040.05/dyncontext_bids/')"
   ]
  },
  {
   "cell_type": "code",
   "execution_count": 7,
   "id": "0df4db9f",
   "metadata": {},
   "outputs": [],
   "source": [
    "localizer = LocalizerLoader(data_dir='/project/3018040.05/dyncontext_bids/',\n",
    "                            task='funcloc', model_name='exp1_objscr_baseline',\n",
    "                            contrast_name='objscr-vs-baseline')"
   ]
  },
  {
   "cell_type": "code",
   "execution_count": 16,
   "id": "0739798a",
   "metadata": {},
   "outputs": [],
   "source": [
    "train_dataset, test_dataset = loader.load_experiment_1_data(subject_id='sub-001',\n",
    "                                                            roi='ba-17-18_R',\n",
    "                                                            localizer=localizer,\n",
    "                                                            n_voxels=100)"
   ]
  },
  {
   "cell_type": "code",
   "execution_count": 17,
   "id": "8963e994",
   "metadata": {},
   "outputs": [
    {
     "data": {
      "text/plain": [
       "array([[4.45744658, 4.93077755, 4.19320774, ..., 4.75453997, 4.4836607 ,\n",
       "        4.61524773],\n",
       "       [2.54226208, 3.54514718, 1.70304585, ..., 3.66665411, 2.76239681,\n",
       "        2.45149779],\n",
       "       [2.19901514, 2.16342211, 1.89472759, ..., 3.20233154, 2.59221506,\n",
       "        2.22795105],\n",
       "       ...,\n",
       "       [4.26592159, 4.75837517, 4.41478014, ..., 2.595474  , 1.83925021,\n",
       "        2.75461817],\n",
       "       [4.02668715, 4.70765305, 3.50938559, ..., 2.48941493, 1.70929146,\n",
       "        2.02320862],\n",
       "       [2.19427466, 3.07411122, 2.07784271, ..., 0.60135067, 0.30766237,\n",
       "        0.25556144]], shape=(60, 100))"
      ]
     },
     "execution_count": 17,
     "metadata": {},
     "output_type": "execute_result"
    }
   ],
   "source": [
    "train_dataset.data"
   ]
  },
  {
   "cell_type": "code",
   "execution_count": 18,
   "id": "c92501fa",
   "metadata": {},
   "outputs": [
    {
     "data": {
      "text/plain": [
       "array([[  4.35202122,   5.6816144 ,   2.82274866, ...,  -3.46013308,\n",
       "         -2.85635877,  -2.68676448],\n",
       "       [  3.92390585,   4.37539625,   3.38481522, ...,  -5.0732069 ,\n",
       "         -6.99644756,  -6.59790516],\n",
       "       [ -2.64064956,  -2.31826425,  -3.13042808, ...,  -1.38013411,\n",
       "         -4.92717791,  -1.4635607 ],\n",
       "       ...,\n",
       "       [ -3.82826567,  -0.5638839 ,  -5.46209192, ...,   1.8926605 ,\n",
       "         -2.7055254 ,   1.48742843],\n",
       "       [  3.91940475,   0.08375116,   0.15581758, ...,   3.87078881,\n",
       "         -0.27965742,   1.6139375 ],\n",
       "       [  0.57374924,   1.54091227,   3.24717665, ..., -11.59933186,\n",
       "         -9.84939194,  -6.23300457]], shape=(112, 100))"
      ]
     },
     "execution_count": 18,
     "metadata": {},
     "output_type": "execute_result"
    }
   ],
   "source": [
    "test_dataset.data"
   ]
  },
  {
   "cell_type": "code",
   "execution_count": 19,
   "id": "db49452d",
   "metadata": {},
   "outputs": [],
   "source": [
    "train_clean, test_clean = remove_nan_voxels(train_dataset, test_dataset)"
   ]
  },
  {
   "cell_type": "code",
   "execution_count": 20,
   "id": "65aca6e3",
   "metadata": {},
   "outputs": [
    {
     "data": {
      "text/plain": [
       "(60, 100)"
      ]
     },
     "execution_count": 20,
     "metadata": {},
     "output_type": "execute_result"
    }
   ],
   "source": [
    "train_clean.data.shape"
   ]
  },
  {
   "cell_type": "code",
   "execution_count": 21,
   "id": "09dffe28",
   "metadata": {},
   "outputs": [
    {
     "data": {
      "text/plain": [
       "(112, 100)"
      ]
     },
     "execution_count": 21,
     "metadata": {},
     "output_type": "execute_result"
    }
   ],
   "source": [
    "test_clean.data.shape"
   ]
  },
  {
   "cell_type": "code",
   "execution_count": null,
   "id": "efd63165",
   "metadata": {},
   "outputs": [],
   "source": []
  }
 ],
 "metadata": {
  "kernelspec": {
   "display_name": "dyncontext",
   "language": "python",
   "name": "python3"
  },
  "language_info": {
   "codemirror_mode": {
    "name": "ipython",
    "version": 3
   },
   "file_extension": ".py",
   "mimetype": "text/x-python",
   "name": "python",
   "nbconvert_exporter": "python",
   "pygments_lexer": "ipython3",
   "version": "3.10.18"
  }
 },
 "nbformat": 4,
 "nbformat_minor": 5
}
