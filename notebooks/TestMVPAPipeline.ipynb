{
 "cells": [
  {
   "cell_type": "code",
   "execution_count": null,
   "id": "2091373c",
   "metadata": {},
   "outputs": [
    {
     "name": "stdout",
     "output_type": "stream",
     "text": [
      "The autoreload extension is already loaded. To reload it, use:\n",
      "  %reload_ext autoreload\n"
     ]
    }
   ],
   "source": [
    "import sys\n",
    "sys.path.append('..')\n",
    "from analysis.mvpa.loaders import ExperimentDataLoader, LocalizerLoader, BetaLoader\n",
    "from analysis.mvpa.decoders import Experiment1Decoder, Experiment2Decoder, InfoCouplingDecoder\n",
    "from analysis.mvpa.utils import remove_nan_voxels\n",
    "from scipy.io import loadmat\n",
    "import re\n",
    "import numpy as np\n",
    "import pingouin as pg\n",
    "import seaborn as sns\n",
    "\n",
    "%load_ext autoreload\n",
    "%autoreload 2"
   ]
  },
  {
   "cell_type": "code",
   "execution_count": 2,
   "id": "f92e8d65",
   "metadata": {},
   "outputs": [],
   "source": [
    "loader = ExperimentDataLoader(data_dir='/project/3018040.05/dyncontext_bids/')"
   ]
  },
  {
   "cell_type": "code",
   "execution_count": 3,
   "id": "0df4db9f",
   "metadata": {},
   "outputs": [],
   "source": [
    "localizer = LocalizerLoader(data_dir='/project/3018040.05/dyncontext_bids/',\n",
    "                            task='funcloc', model_name='exp1_objscr_baseline',\n",
    "                            contrast_name='objscr-vs-baseline')"
   ]
  },
  {
   "cell_type": "code",
   "execution_count": null,
   "id": "0739798a",
   "metadata": {},
   "outputs": [],
   "source": [
    "train_dataset, test_dataset = loader.load_experiment_1_data(subject_id='sub-001',\n",
    "                                                            roi='ba-17-18_R',\n",
    "                                                            localizer=localizer,\n",
    "                                                            n_voxels=500,\n",
    "                                                            fir=True)"
   ]
  },
  {
   "cell_type": "code",
   "execution_count": null,
   "id": "8963e994",
   "metadata": {},
   "outputs": [
    {
     "data": {
      "text/plain": [
       "(60, 500)"
      ]
     },
     "execution_count": 11,
     "metadata": {},
     "output_type": "execute_result"
    }
   ],
   "source": [
    "train_dataset.data.shape"
   ]
  },
  {
   "cell_type": "code",
   "execution_count": 34,
   "id": "4f3a217d",
   "metadata": {},
   "outputs": [
    {
     "ename": "",
     "evalue": "",
     "output_type": "error",
     "traceback": [
      "\u001b[1;31mThe Kernel crashed while executing code in the current cell or a previous cell. \n",
      "\u001b[1;31mPlease review the code in the cell(s) to identify a possible cause of the failure. \n",
      "\u001b[1;31mClick <a href='https://aka.ms/vscodeJupyterKernelCrash'>here</a> for more info. \n",
      "\u001b[1;31mView Jupyter <a href='command:jupyter.viewOutput'>log</a> for further details."
     ]
    }
   ],
   "source": [
    "wholebrain_dataset = loader.load_experiment_1_testonly(subject_id='sub-001',\n",
    "                                                   roi='wholebrain',\n",
    "                                                   fir=True)"
   ]
  },
  {
   "cell_type": "code",
   "execution_count": 33,
   "id": "3e520277",
   "metadata": {},
   "outputs": [
    {
     "data": {
      "text/plain": [
       "(1120, 396859)"
      ]
     },
     "execution_count": 33,
     "metadata": {},
     "output_type": "execute_result"
    }
   ],
   "source": [
    "wholebrain_dataset.data.shape"
   ]
  },
  {
   "cell_type": "code",
   "execution_count": 7,
   "id": "c92501fa",
   "metadata": {},
   "outputs": [],
   "source": [
    "delay_ds = test_dataset.filter_by_delay(8)"
   ]
  },
  {
   "cell_type": "code",
   "execution_count": 9,
   "id": "2ad29dd7",
   "metadata": {},
   "outputs": [
    {
     "data": {
      "text/plain": [
       "array([8, 8, 8, 8, 8, 8, 8, 8, 8, 8, 8, 8, 8, 8, 8, 8, 8, 8, 8, 8, 8, 8,\n",
       "       8, 8, 8, 8, 8, 8, 8, 8, 8, 8, 8, 8, 8, 8, 8, 8, 8, 8, 8, 8, 8, 8,\n",
       "       8, 8, 8, 8, 8, 8, 8, 8, 8, 8, 8, 8, 8, 8, 8, 8, 8, 8, 8, 8, 8, 8,\n",
       "       8, 8, 8, 8, 8, 8, 8, 8, 8, 8, 8, 8, 8, 8, 8, 8, 8, 8, 8, 8, 8, 8,\n",
       "       8, 8, 8, 8, 8, 8, 8, 8, 8, 8, 8, 8, 8, 8, 8, 8, 8, 8, 8, 8, 8, 8,\n",
       "       8, 8])"
      ]
     },
     "execution_count": 9,
     "metadata": {},
     "output_type": "execute_result"
    }
   ],
   "source": [
    "delay_ds.delays"
   ]
  },
  {
   "cell_type": "code",
   "execution_count": 10,
   "id": "db49452d",
   "metadata": {},
   "outputs": [],
   "source": [
    "train_clean, test_clean = remove_nan_voxels(train_dataset, test_dataset)"
   ]
  },
  {
   "cell_type": "code",
   "execution_count": 11,
   "id": "65aca6e3",
   "metadata": {},
   "outputs": [
    {
     "data": {
      "text/plain": [
       "(60, 498)"
      ]
     },
     "execution_count": 11,
     "metadata": {},
     "output_type": "execute_result"
    }
   ],
   "source": [
    "train_clean.data.shape"
   ]
  },
  {
   "cell_type": "code",
   "execution_count": 12,
   "id": "09dffe28",
   "metadata": {},
   "outputs": [
    {
     "data": {
      "text/plain": [
       "(1120, 498)"
      ]
     },
     "execution_count": 12,
     "metadata": {},
     "output_type": "execute_result"
    }
   ],
   "source": [
    "test_clean.data.shape"
   ]
  },
  {
   "cell_type": "code",
   "execution_count": 21,
   "id": "15685849",
   "metadata": {},
   "outputs": [],
   "source": [
    "decoder = InfoCouplingDecoder(data_dir='/project/3018040.05/dyncontext_bids/',\n",
    "                             roi='ba-17-18', voxel_counts=[500])"
   ]
  },
  {
   "cell_type": "code",
   "execution_count": 27,
   "id": "263e67c6",
   "metadata": {},
   "outputs": [],
   "source": [
    "timeresolved = decoder.run_complete_analysis(subject_id='sub-001')"
   ]
  },
  {
   "cell_type": "code",
   "execution_count": 24,
   "id": "4c8198a9",
   "metadata": {},
   "outputs": [
    {
     "data": {
      "text/plain": [
       "congruency   delay\n",
       "congruent    1       -0.010044\n",
       "             2        0.034045\n",
       "             3        0.381353\n",
       "             4        0.049426\n",
       "             5        0.024739\n",
       "             6        0.001821\n",
       "             7        0.116162\n",
       "             8        0.025085\n",
       "             9       -0.040147\n",
       "             10       0.009766\n",
       "incongruent  1        0.081884\n",
       "             2        0.349550\n",
       "             3        0.448505\n",
       "             4        0.329476\n",
       "             5        0.068740\n",
       "             6       -0.037657\n",
       "             7        0.082622\n",
       "             8        0.159706\n",
       "             9        0.459729\n",
       "             10       0.175564\n",
       "Name: classifier_info, dtype: float64"
      ]
     },
     "execution_count": 24,
     "metadata": {},
     "output_type": "execute_result"
    }
   ],
   "source": [
    "timeresolved.groupby(['congruency', 'delay'])['classifier_info'].mean()"
   ]
  },
  {
   "cell_type": "code",
   "execution_count": 28,
   "id": "32f4a1d3",
   "metadata": {},
   "outputs": [
    {
     "data": {
      "text/plain": [
       "<Axes: xlabel='delay', ylabel='classifier_info'>"
      ]
     },
     "execution_count": 28,
     "metadata": {},
     "output_type": "execute_result"
    },
    {
     "data": {
      "image/png": "[encoded data removed]",
      "text/plain": [
       "<Figure size 640x480 with 1 Axes>"
      ]
     },
     "metadata": {},
     "output_type": "display_data"
    }
   ],
   "source": [
    "sns.lineplot(data=timeresolved, x='delay', y='classifier_info', hue='congruency')"
   ]
  },
  {
   "cell_type": "markdown",
   "id": "82b192cf",
   "metadata": {},
   "source": [
    "## Experiment 1 main MVPA"
   ]
  },
  {
   "cell_type": "code",
   "execution_count": 10,
   "id": "efd63165",
   "metadata": {},
   "outputs": [],
   "source": [
    "decoder = Experiment1Decoder(data_dir='/project/3018040.05/dyncontext_bids/',\n",
    "                             roi='ba-17-18', voxel_counts=[100, 200, 300, 400])"
   ]
  },
  {
   "cell_type": "code",
   "execution_count": 11,
   "id": "c5695055",
   "metadata": {},
   "outputs": [
    {
     "data": {
      "text/plain": [
       "[100, 200, 300, 400]"
      ]
     },
     "execution_count": 11,
     "metadata": {},
     "output_type": "execute_result"
    }
   ],
   "source": [
    "decoder.voxel_counts"
   ]
  },
  {
   "cell_type": "code",
   "execution_count": 12,
   "id": "25481e1a",
   "metadata": {},
   "outputs": [],
   "source": [
    "results_df = decoder.run_complete_analysis(subject_id='sub-002')"
   ]
  },
  {
   "cell_type": "code",
   "execution_count": 13,
   "id": "1a5300ed",
   "metadata": {},
   "outputs": [
    {
     "data": {
      "text/plain": [
       "array(['forward', 'backward'], dtype=object)"
      ]
     },
     "execution_count": 13,
     "metadata": {},
     "output_type": "execute_result"
    }
   ],
   "source": [
    "results_df['direction'].unique()"
   ]
  },
  {
   "cell_type": "code",
   "execution_count": 14,
   "id": "5d0db9ce",
   "metadata": {},
   "outputs": [
    {
     "data": {
      "text/plain": [
       "congruency   n_voxels  split\n",
       "congruent    100       1.0      0.254698\n",
       "                       2.0      0.305429\n",
       "                       3.0      0.206144\n",
       "             200       1.0      0.315797\n",
       "                       2.0      0.367264\n",
       "                       3.0      0.303582\n",
       "             300       1.0      0.378563\n",
       "                       2.0      0.389273\n",
       "                       3.0      0.344448\n",
       "             400       1.0      0.411493\n",
       "                       2.0      0.389742\n",
       "                       3.0      0.376765\n",
       "incongruent  100       NaN      0.055930\n",
       "             200       NaN      0.206230\n",
       "             300       NaN      0.253986\n",
       "             400       NaN      0.302519\n",
       "Name: classifier_info, dtype: float64"
      ]
     },
     "execution_count": 14,
     "metadata": {},
     "output_type": "execute_result"
    }
   ],
   "source": [
    "results_df.groupby(['congruency', 'n_voxels', 'split'], dropna=False)['classifier_info'].mean()"
   ]
  },
  {
   "cell_type": "code",
   "execution_count": 15,
   "id": "19fd4fa3",
   "metadata": {},
   "outputs": [
    {
     "data": {
      "text/plain": [
       "direction  congruency \n",
       "backward   congruent      0.353329\n",
       "           incongruent    0.199571\n",
       "forward    congruent      0.301799\n",
       "           incongruent    0.215584\n",
       "Name: classifier_info, dtype: float64"
      ]
     },
     "execution_count": 15,
     "metadata": {},
     "output_type": "execute_result"
    }
   ],
   "source": [
    "results_df.groupby(['direction', 'congruency'])['classifier_info'].mean()"
   ]
  },
  {
   "cell_type": "code",
   "execution_count": 16,
   "id": "f7ec86e7",
   "metadata": {},
   "outputs": [
    {
     "data": {
      "text/plain": [
       "direction\n",
       "backward    1920\n",
       "forward      896\n",
       "Name: count, dtype: int64"
      ]
     },
     "execution_count": 16,
     "metadata": {},
     "output_type": "execute_result"
    }
   ],
   "source": [
    "results_df.direction.value_counts()"
   ]
  },
  {
   "cell_type": "code",
   "execution_count": 17,
   "id": "bf0ea659",
   "metadata": {},
   "outputs": [
    {
     "data": {
      "text/plain": [
       "np.float64(0.30386642389144947)"
      ]
     },
     "execution_count": 17,
     "metadata": {},
     "output_type": "execute_result"
    }
   ],
   "source": [
    "results_df.classifier_info.mean()"
   ]
  },
  {
   "cell_type": "code",
   "execution_count": 18,
   "id": "7eedc796",
   "metadata": {},
   "outputs": [
    {
     "data": {
      "text/plain": [
       "array([1, 2, 3, None], dtype=object)"
      ]
     },
     "execution_count": 18,
     "metadata": {},
     "output_type": "execute_result"
    }
   ],
   "source": [
    "results_df.split.unique()"
   ]
  },
  {
   "cell_type": "markdown",
   "id": "55dbdbf7",
   "metadata": {},
   "source": [
    "## Experiment 2"
   ]
  },
  {
   "cell_type": "code",
   "execution_count": 19,
   "id": "44eebf5d",
   "metadata": {},
   "outputs": [],
   "source": [
    "decoder = Experiment2Decoder(data_dir='/project/3018040.05/dyncontext_bids/',\n",
    "                             roi='ba-17-18', voxel_counts=[100, 200, 300, 400])"
   ]
  },
  {
   "cell_type": "code",
   "execution_count": 20,
   "id": "b6431ff3",
   "metadata": {},
   "outputs": [
    {
     "data": {
      "text/plain": [
       "[100, 200, 300, 400]"
      ]
     },
     "execution_count": 20,
     "metadata": {},
     "output_type": "execute_result"
    }
   ],
   "source": [
    "decoder.voxel_counts"
   ]
  },
  {
   "cell_type": "code",
   "execution_count": 21,
   "id": "2f0458e3",
   "metadata": {},
   "outputs": [],
   "source": [
    "results_df = decoder.run_complete_analysis(subject_id='sub-009')"
   ]
  },
  {
   "cell_type": "code",
   "execution_count": 24,
   "id": "39e363a3",
   "metadata": {},
   "outputs": [
    {
     "data": {
      "text/plain": [
       "np.float64(0.2557230611598205)"
      ]
     },
     "execution_count": 24,
     "metadata": {},
     "output_type": "execute_result"
    }
   ],
   "source": [
    "results_df.classifier_info.mean()"
   ]
  },
  {
   "cell_type": "code",
   "execution_count": 25,
   "id": "532345fa",
   "metadata": {},
   "outputs": [
    {
     "data": {
      "text/html": [
       "<div>\n",
       "<style scoped>\n",
       "    .dataframe tbody tr th:only-of-type {\n",
       "        vertical-align: middle;\n",
       "    }\n",
       "\n",
       "    .dataframe tbody tr th {\n",
       "        vertical-align: top;\n",
       "    }\n",
       "\n",
       "    .dataframe thead th {\n",
       "        text-align: right;\n",
       "    }\n",
       "</style>\n",
       "<table border=\"1\" class=\"dataframe\">\n",
       "  <thead>\n",
       "    <tr style=\"text-align: right;\">\n",
       "      <th></th>\n",
       "      <th>sample_idx</th>\n",
       "      <th>true_label</th>\n",
       "      <th>predicted_label</th>\n",
       "      <th>correct</th>\n",
       "      <th>classifier_info</th>\n",
       "      <th>direction</th>\n",
       "      <th>hemisphere</th>\n",
       "      <th>n_voxels</th>\n",
       "      <th>roi</th>\n",
       "      <th>subject_id</th>\n",
       "    </tr>\n",
       "  </thead>\n",
       "  <tbody>\n",
       "    <tr>\n",
       "      <th>0</th>\n",
       "      <td>0</td>\n",
       "      <td>0</td>\n",
       "      <td>0</td>\n",
       "      <td>True</td>\n",
       "      <td>0.994124</td>\n",
       "      <td>forward</td>\n",
       "      <td>L</td>\n",
       "      <td>100</td>\n",
       "      <td>ba-17-18</td>\n",
       "      <td>sub-009</td>\n",
       "    </tr>\n",
       "    <tr>\n",
       "      <th>1</th>\n",
       "      <td>1</td>\n",
       "      <td>0</td>\n",
       "      <td>0</td>\n",
       "      <td>True</td>\n",
       "      <td>0.826154</td>\n",
       "      <td>forward</td>\n",
       "      <td>L</td>\n",
       "      <td>100</td>\n",
       "      <td>ba-17-18</td>\n",
       "      <td>sub-009</td>\n",
       "    </tr>\n",
       "    <tr>\n",
       "      <th>2</th>\n",
       "      <td>2</td>\n",
       "      <td>0</td>\n",
       "      <td>0</td>\n",
       "      <td>True</td>\n",
       "      <td>0.154000</td>\n",
       "      <td>forward</td>\n",
       "      <td>L</td>\n",
       "      <td>100</td>\n",
       "      <td>ba-17-18</td>\n",
       "      <td>sub-009</td>\n",
       "    </tr>\n",
       "    <tr>\n",
       "      <th>3</th>\n",
       "      <td>3</td>\n",
       "      <td>0</td>\n",
       "      <td>0</td>\n",
       "      <td>True</td>\n",
       "      <td>0.756763</td>\n",
       "      <td>forward</td>\n",
       "      <td>L</td>\n",
       "      <td>100</td>\n",
       "      <td>ba-17-18</td>\n",
       "      <td>sub-009</td>\n",
       "    </tr>\n",
       "    <tr>\n",
       "      <th>4</th>\n",
       "      <td>4</td>\n",
       "      <td>0</td>\n",
       "      <td>0</td>\n",
       "      <td>True</td>\n",
       "      <td>0.332794</td>\n",
       "      <td>forward</td>\n",
       "      <td>L</td>\n",
       "      <td>100</td>\n",
       "      <td>ba-17-18</td>\n",
       "      <td>sub-009</td>\n",
       "    </tr>\n",
       "    <tr>\n",
       "      <th>...</th>\n",
       "      <td>...</td>\n",
       "      <td>...</td>\n",
       "      <td>...</td>\n",
       "      <td>...</td>\n",
       "      <td>...</td>\n",
       "      <td>...</td>\n",
       "      <td>...</td>\n",
       "      <td>...</td>\n",
       "      <td>...</td>\n",
       "      <td>...</td>\n",
       "    </tr>\n",
       "    <tr>\n",
       "      <th>587</th>\n",
       "      <td>55</td>\n",
       "      <td>1</td>\n",
       "      <td>1</td>\n",
       "      <td>True</td>\n",
       "      <td>0.861270</td>\n",
       "      <td>backward</td>\n",
       "      <td>R</td>\n",
       "      <td>400</td>\n",
       "      <td>ba-17-18</td>\n",
       "      <td>sub-009</td>\n",
       "    </tr>\n",
       "    <tr>\n",
       "      <th>588</th>\n",
       "      <td>56</td>\n",
       "      <td>1</td>\n",
       "      <td>1</td>\n",
       "      <td>True</td>\n",
       "      <td>1.619791</td>\n",
       "      <td>backward</td>\n",
       "      <td>R</td>\n",
       "      <td>400</td>\n",
       "      <td>ba-17-18</td>\n",
       "      <td>sub-009</td>\n",
       "    </tr>\n",
       "    <tr>\n",
       "      <th>589</th>\n",
       "      <td>57</td>\n",
       "      <td>1</td>\n",
       "      <td>0</td>\n",
       "      <td>False</td>\n",
       "      <td>-0.522715</td>\n",
       "      <td>backward</td>\n",
       "      <td>R</td>\n",
       "      <td>400</td>\n",
       "      <td>ba-17-18</td>\n",
       "      <td>sub-009</td>\n",
       "    </tr>\n",
       "    <tr>\n",
       "      <th>590</th>\n",
       "      <td>58</td>\n",
       "      <td>1</td>\n",
       "      <td>0</td>\n",
       "      <td>False</td>\n",
       "      <td>-0.213228</td>\n",
       "      <td>backward</td>\n",
       "      <td>R</td>\n",
       "      <td>400</td>\n",
       "      <td>ba-17-18</td>\n",
       "      <td>sub-009</td>\n",
       "    </tr>\n",
       "    <tr>\n",
       "      <th>591</th>\n",
       "      <td>59</td>\n",
       "      <td>1</td>\n",
       "      <td>1</td>\n",
       "      <td>True</td>\n",
       "      <td>1.023817</td>\n",
       "      <td>backward</td>\n",
       "      <td>R</td>\n",
       "      <td>400</td>\n",
       "      <td>ba-17-18</td>\n",
       "      <td>sub-009</td>\n",
       "    </tr>\n",
       "  </tbody>\n",
       "</table>\n",
       "<p>592 rows × 10 columns</p>\n",
       "</div>"
      ],
      "text/plain": [
       "     sample_idx  true_label  predicted_label  correct  classifier_info  \\\n",
       "0             0           0                0     True         0.994124   \n",
       "1             1           0                0     True         0.826154   \n",
       "2             2           0                0     True         0.154000   \n",
       "3             3           0                0     True         0.756763   \n",
       "4             4           0                0     True         0.332794   \n",
       "..          ...         ...              ...      ...              ...   \n",
       "587          55           1                1     True         0.861270   \n",
       "588          56           1                1     True         1.619791   \n",
       "589          57           1                0    False        -0.522715   \n",
       "590          58           1                0    False        -0.213228   \n",
       "591          59           1                1     True         1.023817   \n",
       "\n",
       "    direction hemisphere  n_voxels       roi subject_id  \n",
       "0     forward          L       100  ba-17-18    sub-009  \n",
       "1     forward          L       100  ba-17-18    sub-009  \n",
       "2     forward          L       100  ba-17-18    sub-009  \n",
       "3     forward          L       100  ba-17-18    sub-009  \n",
       "4     forward          L       100  ba-17-18    sub-009  \n",
       "..        ...        ...       ...       ...        ...  \n",
       "587  backward          R       400  ba-17-18    sub-009  \n",
       "588  backward          R       400  ba-17-18    sub-009  \n",
       "589  backward          R       400  ba-17-18    sub-009  \n",
       "590  backward          R       400  ba-17-18    sub-009  \n",
       "591  backward          R       400  ba-17-18    sub-009  \n",
       "\n",
       "[592 rows x 10 columns]"
      ]
     },
     "execution_count": 25,
     "metadata": {},
     "output_type": "execute_result"
    }
   ],
   "source": [
    "results_df"
   ]
  },
  {
   "cell_type": "code",
   "execution_count": 27,
   "id": "8e3ee8bc",
   "metadata": {},
   "outputs": [
    {
     "data": {
      "text/plain": [
       "direction  n_voxels\n",
       "backward   100         0.277068\n",
       "           200         0.273454\n",
       "           300         0.255634\n",
       "           400         0.281205\n",
       "forward    100         0.132884\n",
       "           200         0.220530\n",
       "           300         0.179667\n",
       "           400         0.213517\n",
       "Name: classifier_info, dtype: float64"
      ]
     },
     "execution_count": 27,
     "metadata": {},
     "output_type": "execute_result"
    }
   ],
   "source": [
    "results_df.groupby(['direction', 'n_voxels'])['classifier_info'].mean()"
   ]
  },
  {
   "cell_type": "code",
   "execution_count": 28,
   "id": "d2984fd8",
   "metadata": {},
   "outputs": [
    {
     "data": {
      "text/plain": [
       "direction  n_voxels\n",
       "backward   100         0.575000\n",
       "           200         0.591667\n",
       "           300         0.600000\n",
       "           400         0.600000\n",
       "forward    100         0.535714\n",
       "           200         0.571429\n",
       "           300         0.500000\n",
       "           400         0.535714\n",
       "Name: correct, dtype: float64"
      ]
     },
     "execution_count": 28,
     "metadata": {},
     "output_type": "execute_result"
    }
   ],
   "source": [
    "results_df.groupby(['direction', 'n_voxels'])['correct'].mean()"
   ]
  },
  {
   "cell_type": "code",
   "execution_count": 29,
   "id": "97e7c799",
   "metadata": {},
   "outputs": [
    {
     "data": {
      "text/plain": [
       "np.float64(0.7612476385894674)"
      ]
     },
     "execution_count": 29,
     "metadata": {},
     "output_type": "execute_result"
    }
   ],
   "source": [
    "results_df['classifier_info'].corr(results_df['correct'])"
   ]
  },
  {
   "cell_type": "code",
   "execution_count": null,
   "id": "23d0a9ba",
   "metadata": {},
   "outputs": [],
   "source": []
  }
 ],
 "metadata": {
  "kernelspec": {
   "display_name": "dyncontext",
   "language": "python",
   "name": "python3"
  },
  "language_info": {
   "codemirror_mode": {
    "name": "ipython",
    "version": 3
   },
   "file_extension": ".py",
   "mimetype": "text/x-python",
   "name": "python",
   "nbconvert_exporter": "python",
   "pygments_lexer": "ipython3",
   "version": "3.10.18"
  }
 },
 "nbformat": 4,
 "nbformat_minor": 5
}
